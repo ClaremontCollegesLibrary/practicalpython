{
  "nbformat": 4,
  "nbformat_minor": 0,
  "metadata": {
    "colab": {
      "provenance": [],
      "toc_visible": true,
      "include_colab_link": true
    },
    "kernelspec": {
      "name": "python3",
      "display_name": "Python 3"
    },
    "language_info": {
      "name": "python"
    }
  },
  "cells": [
    {
      "cell_type": "markdown",
      "metadata": {
        "id": "view-in-github",
        "colab_type": "text"
      },
      "source": [
        "<a href=\"https://colab.research.google.com/github/davidmertenjonestccs/practicalpython/blob/main/PracticalPython_BuildingBlocks_Ans.ipynb\" target=\"_parent\"><img src=\"https://colab.research.google.com/assets/colab-badge.svg\" alt=\"Open In Colab\"/></a>"
      ]
    },
    {
      "cell_type": "markdown",
      "source": [
        "# Practical Python"
      ],
      "metadata": {
        "id": "difXwxlLi2S5"
      }
    },
    {
      "cell_type": "markdown",
      "source": [
        "## Introduction: What is Python?\n",
        "\n",
        "Python is a programming language. More specifically, it is a high-level, general-purpose, interpreted programming language. What does that mean?\n",
        "\n",
        "* [High-level](https://en.wikipedia.org/wiki/High-level_programming_language): Python is fairly abstracted from actual [machine code](https://en.wikipedia.org/wiki/Machine_code). You won't have to handle individual bytes for the most part, and Python makes it relatively difficult to access things like [memory allocation](https://en.wikipedia.org/wiki/Memory_management), as most of that is handled automatically. This can be both an advantage and a disadvantage, but for beginning programmers, it's mostly a relief not to have to think about it.\n",
        "\n",
        "* [General-purpose](https://en.wikipedia.org/wiki/General-purpose_language): Python can be used to run fully-featured applications and websites, but it can also be used as a [scripting language](https://en.wikipedia.org/wiki/Scripting_language) for automating tasks. You can program games in Python (although it's not great for that) or build machine learning algorithms (it *is* well-suited for that).\n",
        "\n",
        "* [Interpreted](https://en.wikipedia.org/wiki/Interpreter_(computing)): Many other languages are constructed such that their code must be \"[compiled](https://en.wikipedia.org/wiki/Compiler)\" into an application/executable file before it is run. Python code is compiled as it is run, or \"just in time\", by something called an interpreter, allowing for newly-written code to be deployed much more quickly."
      ],
      "metadata": {
        "id": "hWBZDISnhbb2"
      }
    },
    {
      "cell_type": "markdown",
      "source": [
        "Python is more [human-readable](https://en.wikipedia.org/wiki/Human-readable_medium_and_data) than most other programming languages. Also, you often don't need to write as much Python code to do a task as you'd have to write in another programming language.\n",
        "\n",
        "Python has a fairly comprehensive [standard library](https://docs.python.org/3/library/index.html), with well-defined functions.\n",
        "\n",
        "Python is relatively slow to run (compared to C, C++, Rust, C#, Java, etc.), but fast to code in. It also has a large user base and robust documentation. This is why it's preferred by many as a scripting language for small projects.\n",
        "\n",
        "Python was first published in February, 1991, by [Guido van Rossum](https://en.wikipedia.org/wiki/Guido_van_Rossum).\n",
        "\n",
        "Python was initially written in C, although there are now Java and .net implementations.\n",
        "\n",
        "Python is named after the British sketch comedy troupe [Monty Python's Flying Circus](https://en.wikipedia.org/wiki/Monty_Python%27s_Flying_Circus). Many older Python code examples have variable names like \"spam\" and \"eggs\", and other references to sketches from the show.\n"
      ],
      "metadata": {
        "id": "cZAf1lsR5RZB"
      }
    },
    {
      "cell_type": "markdown",
      "source": [
        "### What Can I Use Python For?\n",
        "\n",
        "Python scripts are a quick and *relatively* painless way to automate tasks on your computer. Do you need to catalog, rename, or move around a bunch of files on your system? Python's `os` and `pathlib` modules make that straightforward.\n",
        "\n",
        "The `pandas` library lets you process [tabular data](https://en.wikipedia.org/wiki/Table_(information)) easily in Python, and in ways that would require a lot of extra work in Excel or Google Sheets.\n",
        "\n",
        "Python's suite of statistical, prediction/modeling, and data visualization packages is well-suited for data science projects.\n",
        "\n",
        "Python provides an easy-to-use platform to access [APIs](https://en.wikipedia.org/wiki/API)."
      ],
      "metadata": {
        "id": "IfUK2xev5Vow"
      }
    },
    {
      "cell_type": "markdown",
      "source": [
        "\n",
        "### Things to Be Aware Of\n",
        "\n",
        "Learning a programming language is a time investment. You may decide that it's not worth it for you to invest time in learning to code in Python, and that's fine.\n",
        "\n",
        "Learning to program is *frustrating*. It can be a humbling experience, and it can take time to acclimate the emotional rollercoaster of running into barriers and finding ways to break through them. This is a universal experience for new programmers. Don't be afraid to ask for help.\n",
        "\n",
        "Automation is only helpful if the time saved is greater than the time spent automating... *in the long run.* If it's your first time using a programming language, automating a task may initially incur a huge expense of time. What's worse: until you've gained more experience programming, you may not necessarily know whether a particular project will be worth the time."
      ],
      "metadata": {
        "id": "egpZb3eQ5ctZ"
      }
    },
    {
      "cell_type": "markdown",
      "source": [
        "### With All That Being Said...\n",
        "\n",
        "If you *do* want to learn Python, whether you dabble in it or jump in headlong, there is an enormous community of programmers who are eager to share what they know and to help beginners."
      ],
      "metadata": {
        "id": "Zd6iO6m06Riu"
      }
    },
    {
      "cell_type": "markdown",
      "source": [
        "### How Do I Start Coding in Python?\n",
        "\n",
        "There are numerous platforms available for programming in Python.\n",
        "\n",
        "Often, progammers will use Integrated Development Environments (IDEs) to code in. These include such software as VSCode, Spyder, PyCharm and others.\n",
        "\n",
        "This file is a \"Jupyter Notebook\" (also called iPython Notebook, or .ipynb file), a specialized type of document that can contain both markdown text and code.\n"
      ],
      "metadata": {
        "id": "ahoXO5pC-8Zn"
      }
    },
    {
      "cell_type": "markdown",
      "source": [
        "## What are Jupyter Notebooks?\n",
        "\n",
        "\"Jupyter\" is an abbreviation for Julia, Python, and R, the three languages it was originally designed to support (Jupyter notebooks can now be used for code in [many languages](https://github.com/jupyter/jupyter/wiki/Jupyter-kernels))\n",
        "\n",
        "Jupyter Notebook and JupyterLab are both platforms that natively support Jupyter Notebooks (.ipynb or \"IPython notebook\" files).\n",
        "\n",
        "Google Colab is Google's cloud-hosted environment for working with .ipynb files. It's great for demonstrations, since it doesn't depend on local computer hardware, but it has some limiations for longer-term or larger-scale projects.\n",
        "\n",
        "*Important note: keyboard shortcuts are different between native Jupyter applications and Google Colab.*\n",
        "\n",
        "For a more in-depth comparison, please see [this guide on geeksforgeeks.org](https://www.geeksforgeeks.org/google-collab-vs-jupyter-notebook/)."
      ],
      "metadata": {
        "id": "4Irfxgl--3Zn"
      }
    },
    {
      "cell_type": "markdown",
      "source": [
        "We are using Colab because it has the fastest distribution and setup time, and because it runs in the Cloud rather than on your local computer. It is currently the best option *for this purpose*, but it may not be the best option for you in the long run.\n",
        "\n",
        "There are many advantages to using a local installation of Python on your own computer hardware. We'll have a chance to install [Anaconda](https://www.anaconda.com/download/success) together today, after the workshop. If you'd like to install it on your own, instructions may be found on The Claremont Colleges Library's [Introduction to Python Research Guide](https://libguides.libraries.claremont.edu/c.php?g=1398881&p=10348509&preview=233278284c6ece4fb595da46d9f0a36f)."
      ],
      "metadata": {
        "id": "4mS6Rb_jOxi0"
      }
    },
    {
      "cell_type": "markdown",
      "source": [
        "### Google Colab Keyboard Shortcuts\n",
        "\n",
        "*(This is not a complete list, but it will get you started. If you're using a Mac, you may use either \"ctrl\" or \"⌘\".)*\n",
        "\n",
        "Ctrl+M, H - Open Keyboard Shortcuts menu\n",
        "\n",
        "Ctrl+M, B - Add a cell below (defaults to code cell)\n",
        "\n",
        "Ctrl+M, A - Add a code cell above\n",
        "\n",
        "Shift+Enter - Run current cell and select next cell\n",
        "\n",
        "Ctrl+Enter - Run current cell\n",
        "\n",
        "Ctrl+M, M - Convert to markdown cell\n",
        "\n",
        "Ctrl+M, Y - Convert to code cell\n",
        "\n",
        "Ctrl+M, D - Delete current cell\n",
        "\n",
        "Ctrl+Z - Undo\n",
        "\n",
        "\n",
        "For more, go to the \"Tools\" menu at the top of the Colab workbook and select \"Command palette\"."
      ],
      "metadata": {
        "id": "C9FtynCubE58"
      }
    },
    {
      "cell_type": "markdown",
      "source": [
        "## Kinds of Cells in Jupyter/Colab Notebooks"
      ],
      "metadata": {
        "id": "OzXUr3FqPA3j"
      }
    },
    {
      "cell_type": "code",
      "source": [
        "# code cell\n",
        "\n",
        "x = 3\n",
        "print(x)"
      ],
      "metadata": {
        "colab": {
          "base_uri": "https://localhost:8080/"
        },
        "id": "Nkwy_zozYF56",
        "outputId": "95f9dd4c-30b9-418e-d1c2-74259bce0ebd"
      },
      "execution_count": null,
      "outputs": [
        {
          "output_type": "stream",
          "name": "stdout",
          "text": [
            "3\n"
          ]
        }
      ]
    },
    {
      "cell_type": "markdown",
      "source": [
        "\n",
        "### markdown cell\n",
        "\n",
        "markdown with `code examples`"
      ],
      "metadata": {
        "id": "xift18ooYmEu"
      }
    },
    {
      "cell_type": "markdown",
      "source": [
        "(Colab only has two cell types, but when working in Jupyter Notebook or JupyterLab, there is a third cell type available called \"raw text.\" These cells do not run as code, but they also do not format the text within.)"
      ],
      "metadata": {
        "id": "P9NxwTcWPHpB"
      }
    },
    {
      "cell_type": "markdown",
      "source": [
        "## Imports"
      ],
      "metadata": {
        "id": "wDLjOQ11i-PL"
      }
    },
    {
      "cell_type": "markdown",
      "source": [
        "Python's standard library includes a lot of built-in features, but most of the time, you will have to use external modules that expand its capabilities. In order to access these modules, you must run code to import them. Some modules may be imported as is with a simple \"`import modulename`\" statement.\n",
        "\n",
        "The following block of imports is the de facto standard set for nearly any Jupyter notebook dealing with analysis or visualiation of data.\n",
        "\n",
        "These libraries are used so commonly, and functions from within them are called so frequently, that Python programmers use aliases for them so they don't have to type out the full module name every time. Numpy is `np`, Pandas is `pd`, and Matplotlib's Pyplot module is `plt`. Rather than writing \"`import pandas`\", we create an alias with \"`import pandas as pd`\".\n"
      ],
      "metadata": {
        "id": "mbSGeVrma6jv"
      }
    },
    {
      "cell_type": "code",
      "execution_count": null,
      "metadata": {
        "id": "C4lTIACDhTvZ"
      },
      "outputs": [],
      "source": [
        "#Python Data Science standard imports\n",
        "import numpy as np\n",
        "import pandas as pd\n",
        "import matplotlib.pyplot as plt"
      ]
    },
    {
      "cell_type": "code",
      "source": [
        "#Where is Python located on the virtual drive?\n",
        "\n",
        "!which python"
      ],
      "metadata": {
        "colab": {
          "base_uri": "https://localhost:8080/"
        },
        "id": "Otrv6VbbbA3m",
        "outputId": "5b74340f-161e-493b-d674-91a35449c98b"
      },
      "execution_count": null,
      "outputs": [
        {
          "output_type": "stream",
          "name": "stdout",
          "text": [
            "/usr/local/bin/python\n"
          ]
        }
      ]
    },
    {
      "cell_type": "markdown",
      "source": [
        "\\* *If you want to run this on a local installation on a Windows computer, you will need to type \"`!WHERE python`\" instead.*"
      ],
      "metadata": {
        "id": "2h7-gqEVRdSV"
      }
    },
    {
      "cell_type": "code",
      "source": [
        "#Which version of Python are we using?\n",
        "\n",
        "!python --version"
      ],
      "metadata": {
        "colab": {
          "base_uri": "https://localhost:8080/"
        },
        "id": "flQ9BpCOkxZg",
        "outputId": "ba1e04c6-2376-4e5a-83ec-f05cb0f7ff38"
      },
      "execution_count": null,
      "outputs": [
        {
          "output_type": "stream",
          "name": "stdout",
          "text": [
            "Python 3.10.12\n"
          ]
        }
      ]
    },
    {
      "cell_type": "markdown",
      "source": [
        "## \"Hello World!\"\n",
        "\n",
        "\"[Hello, World!](https://en.wikipedia.org/wiki/%22Hello,_World!%22_program)\" is a programming tradition that transcends language. As your first program in a new language, it is customary to write a print statement that produces the output \"Hello, World!\" While it may be a bit silly, doing this does have the benefit of demonstrating the surface-level syntax of a language; \"Hello, World!\" statements can be very different across programming languages.\n",
        "\n",
        "In order to get Python to print something to the console, we must type \"`print()`\" around whatever that thing is. The parentheses are not optional."
      ],
      "metadata": {
        "id": "o6Evt7Odk_An"
      }
    },
    {
      "cell_type": "code",
      "source": [
        "print(\"Hello, World!\")"
      ],
      "metadata": {
        "colab": {
          "base_uri": "https://localhost:8080/"
        },
        "id": "fmGoyEvWk_m_",
        "outputId": "03ccf274-7f7b-488c-c764-f029ac73ac7a"
      },
      "execution_count": null,
      "outputs": [
        {
          "output_type": "stream",
          "name": "stdout",
          "text": [
            "Hello, World!\n"
          ]
        }
      ]
    },
    {
      "cell_type": "markdown",
      "source": [
        "# Part I: Python Essentials"
      ],
      "metadata": {
        "id": "WlZKIIKplbO1"
      }
    },
    {
      "cell_type": "markdown",
      "source": [
        "## What is the most important rule to remember when writing code in Python?\n",
        "\n",
        "\n",
        "\n",
        "---\n",
        "\n",
        "\n",
        "\n",
        "**COMMENT YOUR CODE.**\n",
        "\n",
        "\n",
        "\n",
        "---\n",
        "\n",
        "Markdown cells are great for conveying information about code, but often it's even more helpful to add comments within the code itself to explain the function of each step.\n",
        "\n",
        "Comments (with a #) and \"\"\"docstrings\"\"\" (with three sets of quotation marks, either single or double) provide context for people who don't know what your code does.\n",
        "\n",
        "*That includes future you.* Seriously. Document your code so you'll be able to pick up the trail if you have to pause or reopen a project weeks or months later. Be kind to your future self."
      ],
      "metadata": {
        "id": "GW8wVaPulqrv"
      }
    },
    {
      "cell_type": "markdown",
      "source": [
        "## Data Types\n",
        "\n",
        "Python's built-in data types are as follows:\n",
        "\n",
        "Numeric: int (integer), float (floating-point number),complex (imaginary numbers)\n",
        "\n",
        "Text: str (string)\n",
        "\n",
        "Sequences: list, tuple, range\n",
        "\n",
        "Mapping: dict (dictionary)\n",
        "\n",
        "Set: set, frozenset (immutable set)\n",
        "\n",
        "Boolean: bool (True and False)\n",
        "\n",
        "Binary: bytes, bytearray, memoryview\n",
        "\n",
        "None: None\n",
        "\n",
        "(You won't need to know all of these for this workshop.)"
      ],
      "metadata": {
        "id": "SMEzvYrWlt_i"
      }
    },
    {
      "cell_type": "markdown",
      "source": [
        "## Integers\n",
        "\n",
        "Integers are exactly that; they represent real numbers (negative infinity to positive infinity, including zero, no fractions or decimals).\n",
        "\n",
        "In Python, integers are represented simply as numbers."
      ],
      "metadata": {
        "id": "uvxDF0zOup3x"
      }
    },
    {
      "cell_type": "code",
      "source": [
        "m = 3\n",
        "\n",
        "print(m + 2)\n",
        "\n",
        "print(m * 2)"
      ],
      "metadata": {
        "colab": {
          "base_uri": "https://localhost:8080/"
        },
        "id": "-OCMF2YMutq9",
        "outputId": "d1da4fec-fcce-4090-d944-7180fe0e7e0e"
      },
      "execution_count": null,
      "outputs": [
        {
          "output_type": "stream",
          "name": "stdout",
          "text": [
            "5\n",
            "6\n"
          ]
        }
      ]
    },
    {
      "cell_type": "markdown",
      "source": [
        "## Floats (or \"[Floating Point](https://en.wikipedia.org/wiki/Floating-point_arithmetic)\" numbers)\n",
        "\n",
        "Floats are numbers with a decimal point. Python will automatically handle operations that involve both integers and floats, and the output will be converted to a float.\n",
        "\n",
        "Division will always produce a float, not an integer, even if the dividend is a real-number product of the divisor."
      ],
      "metadata": {
        "id": "fhoMkGodvyeA"
      }
    },
    {
      "cell_type": "code",
      "source": [
        "print(3 + 3.0)\n",
        "\n",
        "y = x / 2\n",
        "\n",
        "print(y)"
      ],
      "metadata": {
        "id": "A9sOGV54wgvJ",
        "colab": {
          "base_uri": "https://localhost:8080/"
        },
        "outputId": "073b1608-e953-4bbe-d67a-565fe3f8be12"
      },
      "execution_count": null,
      "outputs": [
        {
          "output_type": "stream",
          "name": "stdout",
          "text": [
            "6.0\n",
            "1.5\n"
          ]
        }
      ]
    },
    {
      "cell_type": "code",
      "source": [
        "print(2 * 2)\n",
        "print(2 / 2)"
      ],
      "metadata": {
        "colab": {
          "base_uri": "https://localhost:8080/"
        },
        "id": "tQHBgbEqa_3u",
        "outputId": "3114fdd1-004e-4be2-847e-14f970b7ed4e"
      },
      "execution_count": null,
      "outputs": [
        {
          "output_type": "stream",
          "name": "stdout",
          "text": [
            "4\n",
            "1.0\n"
          ]
        }
      ]
    },
    {
      "cell_type": "markdown",
      "source": [
        "## Basic Math Operations\n",
        "\n",
        "`+` Addition\n",
        "\n",
        "`-` Subtraction\n",
        "\n",
        "`*` Multiplication\n",
        "\n",
        "`/` Division\n",
        "\n",
        "`**` Exponentiation\n",
        "\n",
        "`%` Modulus/modulo division\n",
        "\n",
        "`//` Floor division\n",
        "\n",
        "If you haven't encountered [modulo division](https://en.wikipedia.org/wiki/Modulo) or floor division before, these terms refer to the respective components of division with a remainder. Modulo division yields the remainder, whereas floor division yields the quotient without the remainder."
      ],
      "metadata": {
        "id": "jsNYSwdUNiRF"
      }
    },
    {
      "cell_type": "markdown",
      "source": [
        "### Coding Exercise 1: Integers, Floats, and Math Operations\n",
        "\n",
        "Try out some different math operations using integers and floats. What happens when you try dividing by zero?"
      ],
      "metadata": {
        "id": "O_BYhbauO9aq"
      }
    },
    {
      "cell_type": "code",
      "source": [
        "################################################################################\n",
        "################################################################################\n",
        "\n",
        "# Your code here:\n",
        "\n",
        "\n",
        "\n",
        "\n",
        "################################################################################\n",
        "################################################################################\n"
      ],
      "metadata": {
        "id": "YA1Dg8RdTIr_"
      },
      "execution_count": null,
      "outputs": []
    },
    {
      "cell_type": "markdown",
      "source": [
        "\n",
        "## Strings\n",
        "\n",
        "Strings are basic units of text. They can contain any character. Python recognizes input as a string when it's enclosed in matching quotation marks.\n",
        "\n",
        "Strings can be combined using the \"+\" operator. Say we have two string variables that denote the start date and end date of a process, and we want to print them out in a coherent sentence. We can do so like this:"
      ],
      "metadata": {
        "id": "U4Ck5tJUnUzc"
      }
    },
    {
      "cell_type": "code",
      "source": [
        "start_date = '2024-05-01'\n",
        "end_date = '2024-05-31'\n",
        "\n",
        "#Notice the spaces around \"to\".\n",
        "full_string = start_date + \" to \" + end_date\n",
        "\n",
        "print(full_string)"
      ],
      "metadata": {
        "colab": {
          "base_uri": "https://localhost:8080/"
        },
        "id": "ZP6G1DAPnXNR",
        "outputId": "48118d59-88c8-409b-bc20-c78a7760b732"
      },
      "execution_count": null,
      "outputs": [
        {
          "output_type": "stream",
          "name": "stdout",
          "text": [
            "2024-05-01 to 2024-05-31\n"
          ]
        }
      ]
    },
    {
      "cell_type": "markdown",
      "source": [
        "### Coding Exercise 2: \"+\" in Different Contexts"
      ],
      "metadata": {
        "id": "FjAlIdfeDSnz"
      }
    },
    {
      "cell_type": "code",
      "source": [
        "string_var1 = 'book'\n",
        "string_var2 = 'shelf'\n",
        "\n",
        "int_var1 = 1\n",
        "int_var2 = 2\n",
        "\n",
        "print(string_var1 + string_var2)\n",
        "print(int_var1 + int_var2)\n",
        "\n",
        "################################################################################\n",
        "################################################################################\n",
        "\n",
        "# What happens if you add string_var1 and int_var1?\n",
        "\n",
        "\n",
        "################################################################################\n",
        "################################################################################"
      ],
      "metadata": {
        "id": "dlt9tyRQDhH5",
        "colab": {
          "base_uri": "https://localhost:8080/"
        },
        "outputId": "70c20f0b-a010-4ee7-fec0-301ded1b827c"
      },
      "execution_count": null,
      "outputs": [
        {
          "output_type": "stream",
          "name": "stdout",
          "text": [
            "bookshelf\n",
            "3\n"
          ]
        }
      ]
    },
    {
      "cell_type": "markdown",
      "source": [
        "### Error Messages Are Your Friends!\n",
        "\n",
        "No, really!\n",
        "\n",
        "Two of the best reasons to learn Python as opposed to other programming languages are that its error handling system is very robust, and that *many other programmers have already gotten the same errors as you.*\n",
        "\n",
        "Python is one of just a few programming languages that includes a built-in [stack trace](https://en.wikipedia.org/wiki/Stack_trace) (others include Java, C#, and Rust; C and C++ each have libraries that can be added to generate a stack trace). This error printout serves as a directory that allows users to pinpoint *exactly* what is causing their code to fail.\n",
        "\n",
        "If you run your code and get an error message, you can copy-paste the last line of it (minus any sensitive information) into a search engine and you will likely find an example of someone else who's gotten the same (or very similar) error message, and asked about it on a forum.\n",
        "\n",
        "Great sources to check for this sort of thing include [StackOverflow](https://stackoverflow.com/) and [GitHub](https://github.com/).\n",
        "\n",
        "Remember, if you've been getting an error message and you change your code and get a new error message, that's progress!"
      ],
      "metadata": {
        "id": "-_B2uRvkn9Hg"
      }
    },
    {
      "cell_type": "markdown",
      "source": [
        "### Troubleshooting Errors\n",
        "\n",
        "Now that we have an error message from the coding exercise, we can enter it into a search engine and look for examples of the same sort of problem. In this case, searcing for \"TypeError: unsupported operand type(s) for +: 'int' and 'str'\"\n",
        "\n",
        "Here's a helpful search result:\n",
        "https://stackoverflow.com/questions/20441035/unsupported-operand-types-for-int-and-str\n",
        "\n",
        "\n",
        "In the Answer section of this post, another user has responded to the question with a potential solution:\n",
        "\n",
        "\"You're trying to concatenate a string and an integer, which is incorrect.\n",
        "\n",
        "Change print(numlist.pop(2)+\" has been removed\") to any of these:\n",
        "\n",
        "Explicit int to str conversion:\"\n",
        "\n",
        "```print(str(numlist.pop(2)) + \" has been removed\")```\n",
        "\n",
        "In this example, we can see that the respondent has used `str()` wrapped around an integer to convert it to a string, which may then be concatenated with another string.\n",
        "\n",
        "\n"
      ],
      "metadata": {
        "id": "FUjtHS_4eD_4"
      }
    },
    {
      "cell_type": "markdown",
      "source": [
        "# Congratulations, You Are Now a Programmer!\n",
        "\n",
        "The cycle of trying to get the code to do something, making a \"mistake\" and learning how to fix it is the essence of programming.\n",
        "\n",
        "It may feel uncomfortable or overwhelming at first, but you will get better at it, and you will gradually learn how to get unstuck more quickly."
      ],
      "metadata": {
        "id": "1lNGcU3ncqHD"
      }
    },
    {
      "cell_type": "markdown",
      "source": [
        "## Converting Types\n",
        "\n",
        "`str()` lets you change an integer or a float into a string. Python also has `int()` and `float()` for converting to other data types."
      ],
      "metadata": {
        "id": "8Ksy0v411eCX"
      }
    },
    {
      "cell_type": "code",
      "source": [
        "print(int('3'))\n",
        "print(int(3.0))\n",
        "print(int(3.8))\n",
        "print(float(3))\n",
        "print(str(3.8))"
      ],
      "metadata": {
        "colab": {
          "base_uri": "https://localhost:8080/"
        },
        "id": "4ZkgoZJE16Cq",
        "outputId": "a2984fe5-f8e0-4025-fd02-5020b62cc682"
      },
      "execution_count": null,
      "outputs": [
        {
          "output_type": "stream",
          "name": "stdout",
          "text": [
            "3\n",
            "3\n",
            "3\n",
            "3.0\n",
            "3.8\n"
          ]
        }
      ]
    },
    {
      "cell_type": "markdown",
      "source": [
        "Note that the decimal portion of a float is truncated when converted to an integer. No rounding occurs; it just removes the decimal entirely.\n",
        "\n",
        "Also note that when printed out, strings and numbers look the same, but if you look at each object directly without printing, there will be quotes around strings."
      ],
      "metadata": {
        "id": "T9bCwkQX2K12"
      }
    },
    {
      "cell_type": "code",
      "source": [
        "float(3)"
      ],
      "metadata": {
        "colab": {
          "base_uri": "https://localhost:8080/"
        },
        "id": "_5UwIo4U2WG2",
        "outputId": "a45fd35d-54ee-4192-bdae-c691fba9d66a"
      },
      "execution_count": null,
      "outputs": [
        {
          "output_type": "execute_result",
          "data": {
            "text/plain": [
              "3.0"
            ]
          },
          "metadata": {},
          "execution_count": 16
        }
      ]
    },
    {
      "cell_type": "code",
      "source": [
        "str(3.5)"
      ],
      "metadata": {
        "colab": {
          "base_uri": "https://localhost:8080/",
          "height": 35
        },
        "id": "i0T98y6F2ZCS",
        "outputId": "790f83c5-38e3-46f9-97f2-b5e13099b4e5"
      },
      "execution_count": null,
      "outputs": [
        {
          "output_type": "execute_result",
          "data": {
            "text/plain": [
              "'3.5'"
            ],
            "application/vnd.google.colaboratory.intrinsic+json": {
              "type": "string"
            }
          },
          "metadata": {},
          "execution_count": 17
        }
      ]
    },
    {
      "cell_type": "markdown",
      "source": [
        "\n",
        "\n",
        "### Escape Characters\n",
        "\n",
        "\"`\\`\" is called an \"escape character\" in Python (and in markdown cells). Placing an escape character before another character in a string will cause a different behavior from the character by itself. In Python strings, \"\\\\t\" represents a tab, and \"\\\\n\" represents a newline character.\n",
        "\n",
        "Also, in order for a \"\\\\\" to show up correctly in markdown cells, it has to have another \\\\ in front of it. \"\\`\" (grave) is another special character that functions as an escape character in some contexts in markdown, but not in code cells.\n",
        "\n",
        "Double-click in this cell to see how many backslashes and graves there actually are in the markdown text."
      ],
      "metadata": {
        "id": "CCCU_LzCoCLk"
      }
    },
    {
      "cell_type": "code",
      "source": [
        "print('line 1\\n\\n\\tline 2 (tab-indented)')"
      ],
      "metadata": {
        "colab": {
          "base_uri": "https://localhost:8080/"
        },
        "id": "wyVX5emYpBc9",
        "outputId": "4f285c10-78aa-4a77-f872-a1fdcb67c5b1"
      },
      "execution_count": null,
      "outputs": [
        {
          "output_type": "stream",
          "name": "stdout",
          "text": [
            "line 1\n",
            "\n",
            "\tline 2 (tab-indented)\n"
          ]
        }
      ]
    },
    {
      "cell_type": "markdown",
      "source": [
        "Strings can contain any kind of character, but they have to be opened and closed by the same kind of quotation mark, either single or double. If a string contains one of these characters, such as an apostrophe in a contraction, the other kind must be used to open and close it, otherwise the code won't run correctly."
      ],
      "metadata": {
        "id": "d9tvOGAtnqcw"
      }
    },
    {
      "cell_type": "markdown",
      "source": [
        "### Coding Exercise 3: Strings and Quotation Marks\n",
        "\n",
        "Try replacing the double-quotes around the string with single-quotes."
      ],
      "metadata": {
        "id": "RXKVQMWRnzUi"
      }
    },
    {
      "cell_type": "code",
      "source": [
        "################################################################################\n",
        "################################################################################\n",
        "\n",
        "string2 = \"This doesn't work unless you use double-quotes to open and close the string.\"\n",
        "print(string2)\n",
        "\n",
        "################################################################################\n",
        "################################################################################"
      ],
      "metadata": {
        "id": "O1w2m4f5n3pu",
        "colab": {
          "base_uri": "https://localhost:8080/"
        },
        "outputId": "850eba24-42c6-45ca-c795-36dcd5299f58"
      },
      "execution_count": null,
      "outputs": [
        {
          "output_type": "stream",
          "name": "stdout",
          "text": [
            "This doesn't work unless you use double-quotes to open and close the string.\n"
          ]
        }
      ]
    },
    {
      "cell_type": "markdown",
      "source": [
        "This should generate the following error message: \"`SyntaxError: unterminated string literal (detected at line 4)`\"\n",
        "\n",
        "Again, error messages are your friends. Anytime you see one, there is an opportunity to learn something.\n",
        "\n",
        "Try entering \"SyntaxError: unterminated string literal (detected at line 4)\" into a search engine, and see what results you get."
      ],
      "metadata": {
        "id": "cXvxwheSn5iZ"
      }
    },
    {
      "cell_type": "markdown",
      "source": [
        "## Objects\n",
        "\n",
        "An \"object\" in Python is kind of like a noun (if you're thinking about it in grammatical terms, an \"object\" can be either a subject or an object). It's a thing that exists in the virtual space of the coding environment.\n",
        "\n",
        "A text string is an example of an object, and so is an integer. So are lists.\n",
        "\n",
        "The following code defines the variable t as the string of characters \"text string\", and sets the variable z to be an integer with a value of 50, then puts them in a `list` object called \"stuff\". The variables \"t\", \"z\", and \"stuff\" are all objects.\n",
        "\n",
        "Everything\\* in Python is an object, which is not true of all programming languages.\n",
        "\n",
        "\n",
        "\\* *well...  nearly everything... there are a couple of exceptions, but they're well outside the scope of this project.*"
      ],
      "metadata": {
        "id": "R9Ro5CTjpD0s"
      }
    },
    {
      "cell_type": "code",
      "source": [
        "t = 'text string'\n",
        "z = 50\n",
        "stuff = [t, z]"
      ],
      "metadata": {
        "id": "HjCYZD34pPMj"
      },
      "execution_count": null,
      "outputs": []
    },
    {
      "cell_type": "code",
      "source": [
        "stuff"
      ],
      "metadata": {
        "colab": {
          "base_uri": "https://localhost:8080/"
        },
        "id": "AEZk25ropPpT",
        "outputId": "3968cfbc-6efa-43b4-9dbd-9824e210e05e"
      },
      "execution_count": null,
      "outputs": [
        {
          "output_type": "execute_result",
          "data": {
            "text/plain": [
              "['text string', 50]"
            ]
          },
          "metadata": {},
          "execution_count": 21
        }
      ]
    },
    {
      "cell_type": "code",
      "source": [
        "z"
      ],
      "metadata": {
        "colab": {
          "base_uri": "https://localhost:8080/"
        },
        "id": "As1RM-1IpRef",
        "outputId": "05055d2f-a0eb-4fc4-ffb1-dec57fba3101"
      },
      "execution_count": null,
      "outputs": [
        {
          "output_type": "execute_result",
          "data": {
            "text/plain": [
              "50"
            ]
          },
          "metadata": {},
          "execution_count": 22
        }
      ]
    },
    {
      "cell_type": "markdown",
      "source": [
        "## Container Objects - Lists, Sets, Dictionaries, and Tuples\n",
        "\n",
        "In the previous example we saw the object \"`stuff`\", which is a list.\n",
        "\n",
        "Lists are a type of \"container\" object. A container is exactly what it sounds like; it stores other objects.\n",
        "\n",
        "There are four built-in container objects in base Python (or depending on how you count it, three-and-a-half, since dictionaries are a special type of set):\n",
        "\n",
        "List: an array that contains elements in a specific order. `[ ]`\n",
        "\n",
        "Set: an unordered collection with no duplicate elements. `{ }`\n",
        "\n",
        "Dictionary: A `set` of \"`key: value`\" pairs. Keys must be unique. `{ }`\n",
        "\n",
        "Tuple: a sequence of elements, immutable (cannot be changed once defined.) `( )`\n"
      ],
      "metadata": {
        "id": "VvuSbgzePe2N"
      }
    },
    {
      "cell_type": "markdown",
      "source": [
        "Specific objects within some container objects may be retrieved by supplying an index or key. This is called \"subscripting\". Lists and tuples are subscriptable by means of providing an index number (e.g.: `some_list[0]`) whereas dictionaries are subscriptable via providing a key (`some_dictionary['some_key']`).\n",
        "\n",
        "Sets are not subscriptable.\n",
        "\n",
        "In the next session, we'll cover a specialized container object called a DataFrame. These are similar to spreadsheets."
      ],
      "metadata": {
        "id": "2uLB0tgNPnA0"
      }
    },
    {
      "cell_type": "markdown",
      "source": [
        "## Slices\n",
        "\n",
        "You can select more than one element of a list (a \"slice\" of a list) by using `[start:stop:step]` to access particular elements of a list.\n",
        "\n",
        "Negative indices yield a list's contents starting from the end, indexed on \"-1\"."
      ],
      "metadata": {
        "id": "K4xPBCZCciHV"
      }
    },
    {
      "cell_type": "code",
      "source": [
        "sample_list = [1, 2, 3, 4, 5, 6]\n",
        "\n",
        "print(sample_list[0:5:2])\n",
        "print(sample_list[-1])\n",
        "print(sample_list[-2])"
      ],
      "metadata": {
        "colab": {
          "base_uri": "https://localhost:8080/"
        },
        "id": "rHyD7NutcSqv",
        "outputId": "a254d513-4be0-4d62-9f12-652d88faa480"
      },
      "execution_count": null,
      "outputs": [
        {
          "output_type": "stream",
          "name": "stdout",
          "text": [
            "[1, 3, 5]\n",
            "6\n",
            "5\n"
          ]
        }
      ]
    },
    {
      "cell_type": "markdown",
      "source": [
        "If you omit elements in `[start:stop:step]`, the default values will be the start of the list, the end of the list, and \"by 1\"."
      ],
      "metadata": {
        "id": "g7dZ7CR-dokf"
      }
    },
    {
      "cell_type": "code",
      "source": [
        "print(sample_list[:3])\n",
        "print(sample_list[-2:])\n",
        "print(sample_list[1:6:])"
      ],
      "metadata": {
        "colab": {
          "base_uri": "https://localhost:8080/"
        },
        "id": "MOGtnSYndzFv",
        "outputId": "41e6ef55-615f-45ac-9309-1767403f6ab7"
      },
      "execution_count": null,
      "outputs": [
        {
          "output_type": "stream",
          "name": "stdout",
          "text": [
            "[1, 2, 3]\n",
            "[5, 6]\n",
            "[2, 3, 4, 5, 6]\n"
          ]
        }
      ]
    },
    {
      "cell_type": "markdown",
      "source": [
        "You can also use a negative value for \"step\" to go backwards through the list. In order to capture the first element of the list this way, omit it from the \"stop\" position."
      ],
      "metadata": {
        "id": "Fh_1CNMweMEH"
      }
    },
    {
      "cell_type": "code",
      "source": [
        "print(sample_list[6:0:-1])\n",
        "print(sample_list[6::-1])"
      ],
      "metadata": {
        "colab": {
          "base_uri": "https://localhost:8080/"
        },
        "id": "H4fo9Sd3d8rw",
        "outputId": "d7b4dc92-6f06-4f96-d6b6-442c09574a11"
      },
      "execution_count": null,
      "outputs": [
        {
          "output_type": "stream",
          "name": "stdout",
          "text": [
            "[6, 5, 4, 3, 2]\n",
            "[6, 5, 4, 3, 2, 1]\n"
          ]
        }
      ]
    },
    {
      "cell_type": "markdown",
      "source": [
        "### Coding Exercise 4: Accessing Elements in Container Objects\n",
        "\n",
        "It can be a challenge to remember which syntax to use for each kind of container object.\n",
        "\n",
        "Try using different arguments in square brackets at the end of the following four container objects:"
      ],
      "metadata": {
        "id": "JFlS0AEuPrE4"
      }
    },
    {
      "cell_type": "code",
      "source": [
        "sample_list = [1, 2, 3, 4, 5, 6]\n",
        "sample_tuple = ('red', 8)\n",
        "sample_dict = {'home_team':12,'away_team':9}\n",
        "sample_set = {'pencil', 'clipboard', 'eraser', 'notepad', 'pen'}\n",
        "empty_list = []\n",
        "\n",
        "################################################################################\n",
        "################################################################################\n",
        "\n",
        "# Example:\n",
        "sample_list[0]\n",
        "\n",
        "################################################################################\n",
        "################################################################################"
      ],
      "metadata": {
        "colab": {
          "base_uri": "https://localhost:8080/"
        },
        "id": "xKucsPjaPvKp",
        "outputId": "3d63dfae-d770-42c4-c321-d6b71b0e3043"
      },
      "execution_count": null,
      "outputs": [
        {
          "output_type": "execute_result",
          "data": {
            "text/plain": [
              "1"
            ]
          },
          "metadata": {},
          "execution_count": 26
        }
      ]
    },
    {
      "cell_type": "markdown",
      "source": [
        "## Functions\n",
        "\n",
        "A function in Python is a kind of object, specifically an object that is a tool used for a particular purpose.\n",
        "\n",
        "Functions in Python are blocks of code that only run when they are \"called\".\n",
        "\n",
        "Functions may have inputs, and may also produce outputs. In Python, functions are defined using the `def function_name():` syntax.\n",
        "\n",
        "When defining a function, the variables within the parentheses are referred to as \"parameters\". When the function is called, the values that are actually passed to the function via these parameters are referred to as \"arguments\".\n",
        "\n",
        "\"Argument\" is a term borrowed from mathematics, and does not refer to a debate or disagreement, but rather a value from which another value may be calculated. (See this answer on [the Software Engineering Stack Exchange](https://softwareengineering.stackexchange.com/posts/186318/revisions))\n",
        "\n",
        "To call a function, type its name appended with parentheses that contain whatever arguments are supposed to be passed to it, like `function_name(arg1, arg2)`\n",
        "\n",
        "If you think about real-world things in Pythonic terms, a pair of scissors is a function, a piece of paper is an argument for the function, and cutting the paper with the scissors is calling the function."
      ],
      "metadata": {
        "id": "MPkhgxEuN9zS"
      }
    },
    {
      "cell_type": "code",
      "source": [
        "def print_yelling(text):\n",
        "\tprifnt(text.upper())"
      ],
      "metadata": {
        "id": "m7OupQMUOA2R"
      },
      "execution_count": null,
      "outputs": []
    },
    {
      "cell_type": "code",
      "source": [
        "print('Hello, World!')"
      ],
      "metadata": {
        "id": "Goy3bfYvOC7g",
        "outputId": "c727b0bb-fbc9-45f0-9058-653695ff2c36",
        "colab": {
          "base_uri": "https://localhost:8080/"
        }
      },
      "execution_count": null,
      "outputs": [
        {
          "output_type": "stream",
          "name": "stdout",
          "text": [
            "Hello, World!\n"
          ]
        }
      ]
    },
    {
      "cell_type": "code",
      "source": [
        "print_yelling('Hello, World!')"
      ],
      "metadata": {
        "id": "uBm78oSpOEBr",
        "outputId": "5004f507-0a16-4193-deb8-01271856903d",
        "colab": {
          "base_uri": "https://localhost:8080/"
        }
      },
      "execution_count": null,
      "outputs": [
        {
          "output_type": "stream",
          "name": "stdout",
          "text": [
            "HELLO, WORLD!\n"
          ]
        }
      ]
    },
    {
      "cell_type": "markdown",
      "source": [
        "### The `return` Keyword\n",
        "\n",
        "Printing the output is fine for human users who just want to read it, but it's generally more useful to have the function produce an output by means of a `return` statement. If you want to print the output, you can store the output as a variable, and then print it.\n",
        "\n",
        "This way, the output of the function may be reused, passed to other functions, etc.\n",
        "\n",
        "Unlike \"`print()`\", \"`return`\" does not require the use of parentheses."
      ],
      "metadata": {
        "id": "YNlncoiKOFds"
      }
    },
    {
      "cell_type": "code",
      "source": [
        "def hello_world_return():\n",
        "\n",
        "    return 'Hello world!'\n",
        "\n",
        "hello_world_return()\n"
      ],
      "metadata": {
        "id": "iQeTgEj1OJfR",
        "outputId": "49dee36d-9f77-4c49-e262-205cb267520a",
        "colab": {
          "base_uri": "https://localhost:8080/",
          "height": 35
        }
      },
      "execution_count": null,
      "outputs": [
        {
          "output_type": "execute_result",
          "data": {
            "text/plain": [
              "'Hello world!'"
            ],
            "application/vnd.google.colaboratory.intrinsic+json": {
              "type": "string"
            }
          },
          "metadata": {},
          "execution_count": 80
        }
      ]
    },
    {
      "cell_type": "code",
      "source": [
        "greeting = hello_world_return()\n",
        "\n",
        "print(greeting)"
      ],
      "metadata": {
        "colab": {
          "base_uri": "https://localhost:8080/"
        },
        "id": "yqyisIMHZwSl",
        "outputId": "db8f5469-b23c-489e-a9e5-416840077979"
      },
      "execution_count": null,
      "outputs": [
        {
          "output_type": "stream",
          "name": "stdout",
          "text": [
            "Hello world!\n"
          ]
        }
      ]
    },
    {
      "cell_type": "markdown",
      "source": [
        "### Built-in Functions\n",
        "\n",
        "Python has a list of pre-defined functions that can do useful things, right out of the box. We've seen a few of these already, such as `print()`, `str()` `float()`, and `int()`.\n",
        "\n",
        "A full list may be found in the [Python Documentation on Built-In Functions](https://docs.python.org/3/library/functions.html)"
      ],
      "metadata": {
        "id": "AUEq32pIOMoT"
      }
    },
    {
      "cell_type": "markdown",
      "source": [
        "## Classes\n",
        "\n",
        "`Classes` are blueprints/templates for objects.\n",
        "\n",
        "Sometimes, you will find the built-in objects in Python (lists, strings, integers, dictionaries, etc.) insufficient for the task you want to accomplish. The ability to create classes lets you make new types of objects, with different characteristics and functionalities.\n",
        "\n",
        "Individual objects are \"instances\" of classes. When you define a variable as a string in Python, you are creating an instance of the (existing) string class.\n",
        "\n",
        "You can tell what class an object is by using the `type()` function around the object.\n",
        "\n",
        "*A quick note about different kinds of Python programming:*\n",
        "\n",
        "*You may or may not have to construct your own classes when you write Python code, but they are a good thing to understand at least on a basic level. If you are using Python for data analysis/data science, you will not likely have to write your own classes, as most of the work done in Python in that field makes use of existing classes imported from purpose-built modules.*\n",
        "\n",
        "*However, if you veer more towards the programming or computer science side of things (such as web design, application programming, or software testing), you will very likely have to be able to create classes from scratch, and be able to modify existing classes.*"
      ],
      "metadata": {
        "id": "uWpL-MiVpSu2"
      }
    },
    {
      "cell_type": "code",
      "source": [
        "p = 'gazelle'\n",
        "type(p)"
      ],
      "metadata": {
        "colab": {
          "base_uri": "https://localhost:8080/"
        },
        "id": "kOmAcsN8pbT2",
        "outputId": "f6b39ea5-54ea-4f7c-ed2a-0b34053bc2ba"
      },
      "execution_count": null,
      "outputs": [
        {
          "output_type": "execute_result",
          "data": {
            "text/plain": [
              "str"
            ]
          },
          "metadata": {},
          "execution_count": 31
        }
      ]
    },
    {
      "cell_type": "code",
      "source": [
        "type(6)"
      ],
      "metadata": {
        "colab": {
          "base_uri": "https://localhost:8080/"
        },
        "id": "pAcSUP533VJQ",
        "outputId": "16320fe4-5b68-4d26-c07c-ae43c67eca07"
      },
      "execution_count": null,
      "outputs": [
        {
          "output_type": "execute_result",
          "data": {
            "text/plain": [
              "int"
            ]
          },
          "metadata": {},
          "execution_count": 32
        }
      ]
    },
    {
      "cell_type": "code",
      "source": [
        "type(6.5)"
      ],
      "metadata": {
        "colab": {
          "base_uri": "https://localhost:8080/"
        },
        "id": "MYACTmZp3Wrn",
        "outputId": "0944da29-849d-48fc-b790-039f8d59b3d1"
      },
      "execution_count": null,
      "outputs": [
        {
          "output_type": "execute_result",
          "data": {
            "text/plain": [
              "float"
            ]
          },
          "metadata": {},
          "execution_count": 33
        }
      ]
    },
    {
      "cell_type": "markdown",
      "source": [
        "### Attributes\n",
        "\n",
        "Attributes are the properties of Python objects. They are specific to the class of an object.\n",
        "\n",
        "An object's attributes can be accessed with a dot following the object's name, as in, \"`object.attribute`\"."
      ],
      "metadata": {
        "id": "HYAuu2fmPL9B"
      }
    },
    {
      "cell_type": "code",
      "source": [
        "g = 2\n",
        "g.__class__"
      ],
      "metadata": {
        "colab": {
          "base_uri": "https://localhost:8080/"
        },
        "id": "xv9WelzLPVft",
        "outputId": "da160490-b9f0-4502-c5bd-5f59ab2871c6"
      },
      "execution_count": null,
      "outputs": [
        {
          "output_type": "execute_result",
          "data": {
            "text/plain": [
              "int"
            ]
          },
          "metadata": {},
          "execution_count": 34
        }
      ]
    },
    {
      "cell_type": "markdown",
      "source": [
        "\"`__init__()`\" is a feature of each class that sets its attributes."
      ],
      "metadata": {
        "id": "C66kYnpUSbSP"
      }
    },
    {
      "cell_type": "code",
      "source": [
        "class Sandwich():\n",
        "\n",
        "    # __init__() sets attributes of a new class instance\n",
        "    def __init__(self, bread, fillings=[]):\n",
        "        self.bread = bread\n",
        "        self.fillings = fillings\n"
      ],
      "metadata": {
        "id": "qeEOlQSYH0c6"
      },
      "execution_count": null,
      "outputs": []
    },
    {
      "cell_type": "markdown",
      "source": [
        "The builtin function `type()` accesses the `__class__` attribute of the object passed to it as an argument."
      ],
      "metadata": {
        "id": "MEpmB9Na5pha"
      }
    },
    {
      "cell_type": "code",
      "source": [
        "# Here we define \"pbj\" as an instance of the class \"Sandwich\":\n",
        "\n",
        "pbj = Sandwich(bread='whole wheat', fillings=['peanut butter', 'grape jelly'])\n",
        "\n",
        "print(type(pbj))\n",
        "print(pbj.__class__)"
      ],
      "metadata": {
        "colab": {
          "base_uri": "https://localhost:8080/"
        },
        "id": "mBm7xAGMIuza",
        "outputId": "f00c3f53-8351-474c-91dd-50f182c080b9"
      },
      "execution_count": null,
      "outputs": [
        {
          "output_type": "stream",
          "name": "stdout",
          "text": [
            "<class '__main__.Sandwich'>\n",
            "<class '__main__.Sandwich'>\n"
          ]
        }
      ]
    },
    {
      "cell_type": "code",
      "source": [
        "print(pbj.bread)\n",
        "print(pbj.fillings)"
      ],
      "metadata": {
        "colab": {
          "base_uri": "https://localhost:8080/"
        },
        "id": "A3QX4hllIyKk",
        "outputId": "03ad8007-f72c-4585-9d4c-86ddb1767570"
      },
      "execution_count": null,
      "outputs": [
        {
          "output_type": "stream",
          "name": "stdout",
          "text": [
            "whole wheat\n",
            "['peanut butter', 'grape jelly']\n"
          ]
        }
      ]
    },
    {
      "cell_type": "code",
      "source": [
        "pbj.fillings.append('banana')\n",
        "\n",
        "print(pbj.fillings)"
      ],
      "metadata": {
        "colab": {
          "base_uri": "https://localhost:8080/"
        },
        "id": "QRaCYWrLJEg-",
        "outputId": "80ff8047-1262-4e1e-a85a-bacacd39cc12"
      },
      "execution_count": null,
      "outputs": [
        {
          "output_type": "stream",
          "name": "stdout",
          "text": [
            "['peanut butter', 'grape jelly', 'banana']\n"
          ]
        }
      ]
    },
    {
      "cell_type": "markdown",
      "source": [
        "### Dynamic Typing\n",
        "\n",
        "While many other programming languages require the user to declare what kind of type a new object is as it's created, Python's approach is more laissez-faire. Python is coded such that it will attempt to detect what type an object is based on context, usually by checking what methods are associated with the object.\n",
        "\n",
        "This is sometimes called \"duck typing\", as in \"if it walks like a duck, and it quacks like a duck, then it's probably a duck\".\n",
        "\n",
        "This is useful in that objects in Python are a lot more flexible than in some other languages; you can iterate over most of the container objects the same way, and Python will \"know\" what to do with them. The downside is that if a function receives input in a format it's not designed for, there can sometimes be unexpected results."
      ],
      "metadata": {
        "id": "H9Rbn_KapgW3"
      }
    },
    {
      "cell_type": "markdown",
      "source": [
        "### Methods\n",
        "\n",
        "Did you notice the `.upper()` in the \"`print_yelling()`\" example back in \"Functions\"?\n",
        "\n",
        "That's an example of a method, which is a function specific to a class. When Classes are constructed, they may have methods defined, which can later be accessed using the syntax \"`object.method()`\". Unlike regular functions, methods are reliant on their respective Classes when they are called; they cannot be called by themselves.\n",
        "\n",
        "In this case, `.upper()` is a method for the string Class (str) that converts all the alphabetical characters in the string to uppercase while ignoring other kinds of characters.\n",
        "\n",
        "The original string is unchanged, but calling the `.upper()` method returns an altered version of the string. `.lower()` works the same way, for lowercase. There are [many other built-in methods for strings](https://www.w3schools.com/python/python_ref_string.asp) besides these two."
      ],
      "metadata": {
        "id": "8UZNDPOgO0H8"
      }
    },
    {
      "cell_type": "code",
      "source": [
        "p = '101 Dalmatians'\n",
        "p.upper()"
      ],
      "metadata": {
        "id": "AlAsvSSqO5xr",
        "colab": {
          "base_uri": "https://localhost:8080/",
          "height": 35
        },
        "outputId": "4eb75447-5055-4de3-84a1-67f5d7215fef"
      },
      "execution_count": null,
      "outputs": [
        {
          "output_type": "execute_result",
          "data": {
            "text/plain": [
              "'101 DALMATIANS'"
            ],
            "application/vnd.google.colaboratory.intrinsic+json": {
              "type": "string"
            }
          },
          "metadata": {},
          "execution_count": 39
        }
      ]
    },
    {
      "cell_type": "code",
      "source": [
        "s = 'Lentil Soup - Cup: $5.99, Bowl: $9.99'\n",
        "s.upper()"
      ],
      "metadata": {
        "id": "e0DA2_r6PHB4",
        "colab": {
          "base_uri": "https://localhost:8080/",
          "height": 35
        },
        "outputId": "4ab7ba2e-548a-4a44-cb46-e76006b244df"
      },
      "execution_count": null,
      "outputs": [
        {
          "output_type": "execute_result",
          "data": {
            "text/plain": [
              "'LENTIL SOUP - CUP: $5.99, BOWL: $9.99'"
            ],
            "application/vnd.google.colaboratory.intrinsic+json": {
              "type": "string"
            }
          },
          "metadata": {},
          "execution_count": 40
        }
      ]
    },
    {
      "cell_type": "code",
      "source": [
        "f = 'RoSeS, vIoLeTs, ChRySaNtHeMuMs'\n",
        "f.lower()"
      ],
      "metadata": {
        "id": "MJZU8vj8PFgP",
        "colab": {
          "base_uri": "https://localhost:8080/",
          "height": 35
        },
        "outputId": "4dca3c1f-277b-4cc1-8ef4-e32d0f35034b"
      },
      "execution_count": null,
      "outputs": [
        {
          "output_type": "execute_result",
          "data": {
            "text/plain": [
              "'roses, violets, chrysanthemums'"
            ],
            "application/vnd.google.colaboratory.intrinsic+json": {
              "type": "string"
            }
          },
          "metadata": {},
          "execution_count": 41
        }
      ]
    },
    {
      "cell_type": "markdown",
      "source": [
        "## `dir`\n",
        "\n",
        "The built-in function `dir()` yields a directory of an object's attributes and methods.\n",
        "\n",
        "As illustrated below, even the lowliest integers have many attributes and methods associated with them."
      ],
      "metadata": {
        "id": "IL7Z-_TNPaxV"
      }
    },
    {
      "cell_type": "code",
      "source": [
        "dir(2)"
      ],
      "metadata": {
        "colab": {
          "base_uri": "https://localhost:8080/"
        },
        "id": "P-tEFz75PeOJ",
        "outputId": "e88cf96b-03e1-451b-cc5a-6337ea411c46"
      },
      "execution_count": null,
      "outputs": [
        {
          "output_type": "execute_result",
          "data": {
            "text/plain": [
              "['__abs__',\n",
              " '__add__',\n",
              " '__and__',\n",
              " '__bool__',\n",
              " '__ceil__',\n",
              " '__class__',\n",
              " '__delattr__',\n",
              " '__dir__',\n",
              " '__divmod__',\n",
              " '__doc__',\n",
              " '__eq__',\n",
              " '__float__',\n",
              " '__floor__',\n",
              " '__floordiv__',\n",
              " '__format__',\n",
              " '__ge__',\n",
              " '__getattribute__',\n",
              " '__getnewargs__',\n",
              " '__gt__',\n",
              " '__hash__',\n",
              " '__index__',\n",
              " '__init__',\n",
              " '__init_subclass__',\n",
              " '__int__',\n",
              " '__invert__',\n",
              " '__le__',\n",
              " '__lshift__',\n",
              " '__lt__',\n",
              " '__mod__',\n",
              " '__mul__',\n",
              " '__ne__',\n",
              " '__neg__',\n",
              " '__new__',\n",
              " '__or__',\n",
              " '__pos__',\n",
              " '__pow__',\n",
              " '__radd__',\n",
              " '__rand__',\n",
              " '__rdivmod__',\n",
              " '__reduce__',\n",
              " '__reduce_ex__',\n",
              " '__repr__',\n",
              " '__rfloordiv__',\n",
              " '__rlshift__',\n",
              " '__rmod__',\n",
              " '__rmul__',\n",
              " '__ror__',\n",
              " '__round__',\n",
              " '__rpow__',\n",
              " '__rrshift__',\n",
              " '__rshift__',\n",
              " '__rsub__',\n",
              " '__rtruediv__',\n",
              " '__rxor__',\n",
              " '__setattr__',\n",
              " '__sizeof__',\n",
              " '__str__',\n",
              " '__sub__',\n",
              " '__subclasshook__',\n",
              " '__truediv__',\n",
              " '__trunc__',\n",
              " '__xor__',\n",
              " 'as_integer_ratio',\n",
              " 'bit_count',\n",
              " 'bit_length',\n",
              " 'conjugate',\n",
              " 'denominator',\n",
              " 'from_bytes',\n",
              " 'imag',\n",
              " 'numerator',\n",
              " 'real',\n",
              " 'to_bytes']"
            ]
          },
          "metadata": {},
          "execution_count": 42
        }
      ]
    },
    {
      "cell_type": "markdown",
      "source": [
        "## `for` Loops\n",
        "\n",
        "Container objects are handy for several reasons, but probably the most important of those is that they can be iterated over.\n",
        "\n",
        "Iteration is the cornerstone of automation in Python, as it lets the user instruct Python to repeat a task for every item in a defined scope (a list, a range of numbers, a set, a tuple, the values in a dictionary, or a column in a DataFrame.)"
      ],
      "metadata": {
        "id": "t7LPLv8hPvuf"
      }
    },
    {
      "cell_type": "code",
      "source": [
        "#Iterating over a list\n",
        "\n",
        "p = ['a', 'b', 'c']\n",
        "for item in p:\n",
        "\tprint(item)"
      ],
      "metadata": {
        "colab": {
          "base_uri": "https://localhost:8080/"
        },
        "id": "pmQpQPMNPzFF",
        "outputId": "1ab0d733-088d-4c32-92f1-7fe50925adea"
      },
      "execution_count": null,
      "outputs": [
        {
          "output_type": "stream",
          "name": "stdout",
          "text": [
            "a\n",
            "b\n",
            "c\n"
          ]
        }
      ]
    },
    {
      "cell_type": "code",
      "source": [
        "#Iterating over a list, creating a new list element-by-element\n",
        "\n",
        "p = ['a', 'b', 'c']\n",
        "q = []\n",
        "for item in p:\n",
        "\tq.append(item.upper())\n",
        "\n",
        "q"
      ],
      "metadata": {
        "colab": {
          "base_uri": "https://localhost:8080/"
        },
        "id": "a-Eu19aKP1Bf",
        "outputId": "65355432-721b-4287-8faf-086805e4e3c8"
      },
      "execution_count": null,
      "outputs": [
        {
          "output_type": "execute_result",
          "data": {
            "text/plain": [
              "['A', 'B', 'C']"
            ]
          },
          "metadata": {},
          "execution_count": 44
        }
      ]
    },
    {
      "cell_type": "markdown",
      "source": [
        "### Number Ranges\n",
        "\n",
        "The builtin function `range()` allows you to iterate through a range of numbers."
      ],
      "metadata": {
        "id": "9KpgjndJkfLI"
      }
    },
    {
      "cell_type": "code",
      "source": [
        "# Iterating using range()\n",
        "\n",
        "print(\"1 argument, count up from zero:\\n\")\n",
        "for i in range(11):\n",
        "    print(i ** 2)\n",
        "\n",
        "print(\"\\n2 arguments, count from first number to last (not including last):\\n\")\n",
        "for i in range(4,11):\n",
        "    print(i ** 2)\n",
        "\n",
        "print(\"\\n3 arguments, count from first number to second (not included), \\nwith a step size of the third argument:\\n\")\n",
        "for i in range(0,11,2):\n",
        "    print(i ** 2)"
      ],
      "metadata": {
        "colab": {
          "base_uri": "https://localhost:8080/"
        },
        "id": "EsNZyA__kxOk",
        "outputId": "dfb9845a-d17c-4c82-a3cf-aceb77c1db13"
      },
      "execution_count": null,
      "outputs": [
        {
          "output_type": "stream",
          "name": "stdout",
          "text": [
            "1 argument, count up from zero:\n",
            "\n",
            "0\n",
            "1\n",
            "4\n",
            "9\n",
            "16\n",
            "25\n",
            "36\n",
            "49\n",
            "64\n",
            "81\n",
            "100\n",
            "\n",
            "2 arguments, count from first number to last (not including last):\n",
            "\n",
            "16\n",
            "25\n",
            "36\n",
            "49\n",
            "64\n",
            "81\n",
            "100\n",
            "\n",
            "3 arguments, count from first number to second (not included), \n",
            "with a step size of the third argument:\n",
            "\n",
            "0\n",
            "4\n",
            "16\n",
            "36\n",
            "64\n",
            "100\n"
          ]
        }
      ]
    },
    {
      "cell_type": "markdown",
      "source": [
        "Within a `for` loop iterating over a container, a temporary variable is created to reference each object in the container. One by one, the objects in the container object are stored in this variable. In the previous examples, we used the word \"item\" for that temporary variable. 'Item' and 'element' are fairly conventional names for this temporary variable, but they can often be too generic.\n",
        "\n",
        "For variable names, you should consider using words* that convey more meaning to whomever might be reading your code.\n",
        "\n",
        "This can be especially important when you're dealing with specific types of data and you want to reduce the level of abstraction necessary to understand the code.\n",
        "\n",
        "\\* *NB: There are a few words in Python that you should never use for variable names because they have specific predefined meanings, but we'll cover those later.*"
      ],
      "metadata": {
        "id": "aQJbj4KtP2d-"
      }
    },
    {
      "cell_type": "code",
      "source": [
        "letter_list = ['a', 'b', 'c']\n",
        "for letter in letter_list:\n",
        "\tprint(letter)"
      ],
      "metadata": {
        "colab": {
          "base_uri": "https://localhost:8080/"
        },
        "id": "uAqjxV61P7tW",
        "outputId": "412219da-328c-4606-927a-3da16e011d7c"
      },
      "execution_count": null,
      "outputs": [
        {
          "output_type": "stream",
          "name": "stdout",
          "text": [
            "a\n",
            "b\n",
            "c\n"
          ]
        }
      ]
    },
    {
      "cell_type": "markdown",
      "source": [
        "### Dictionaries in for Loops:\n",
        "\n",
        "To access the values in a dictionary through a `for` loop, the user must first use the `.keys()` method to retrieve the keys."
      ],
      "metadata": {
        "id": "A2D28cmwwBA1"
      }
    },
    {
      "cell_type": "code",
      "source": [
        "dictionary_object = {'key1':'value1','key2':'value2',\n",
        "                     'key3':'value3', 'key4':'value4'}\n",
        "\n",
        "for key in dictionary_object.keys():\n",
        "\tprint(dictionary_object[key])"
      ],
      "metadata": {
        "colab": {
          "base_uri": "https://localhost:8080/"
        },
        "id": "NttgoZ2nwD9Z",
        "outputId": "103a1dbb-6f1a-4477-9988-d5925d516f74"
      },
      "execution_count": null,
      "outputs": [
        {
          "output_type": "stream",
          "name": "stdout",
          "text": [
            "value1\n",
            "value2\n",
            "value3\n",
            "value4\n"
          ]
        }
      ]
    },
    {
      "cell_type": "markdown",
      "source": [
        "### Nested `for` Loops\n",
        "\n",
        "Loops within loops are possible, and sometimes necessary. Note how each nested loop is indented further from those above it."
      ],
      "metadata": {
        "id": "Pao73LvdQCgC"
      }
    },
    {
      "cell_type": "code",
      "source": [
        "sentences = [\n",
        "    ['The', 'quick', 'brown', 'fox', 'jumped', 'over', 'the', 'lazy', 'dog'],\n",
        "    ['Sphinx', 'of', 'black', 'quartz', 'judge', 'my', 'vow'],\n",
        "    ['The', 'five', 'boxing', 'wizards', 'jump', 'quickly']\n",
        "]\n",
        "\n",
        "for sentence in sentences:\n",
        "  for word in sentence:\n",
        "    print(word)\n",
        "  print('\\n')"
      ],
      "metadata": {
        "colab": {
          "base_uri": "https://localhost:8080/"
        },
        "id": "HILH9cnCQWf0",
        "outputId": "59be0100-ec5a-40e1-a1c2-bd52d36fa503"
      },
      "execution_count": null,
      "outputs": [
        {
          "output_type": "stream",
          "name": "stdout",
          "text": [
            "The\n",
            "quick\n",
            "brown\n",
            "fox\n",
            "jumped\n",
            "over\n",
            "the\n",
            "lazy\n",
            "dog\n",
            "\n",
            "\n",
            "Sphinx\n",
            "of\n",
            "black\n",
            "quartz\n",
            "judge\n",
            "my\n",
            "vow\n",
            "\n",
            "\n",
            "The\n",
            "five\n",
            "boxing\n",
            "wizards\n",
            "jump\n",
            "quickly\n",
            "\n",
            "\n"
          ]
        }
      ]
    },
    {
      "cell_type": "markdown",
      "source": [
        "\n",
        "\n",
        "\n",
        "\n",
        "\n",
        "\n",
        "\n",
        "\n",
        "\n",
        "\n",
        "\n",
        "\n",
        "\n",
        "\n",
        "\\\n",
        "\n",
        "\n",
        "\n",
        "\n",
        "\n",
        "\n",
        "\n",
        "  \n",
        "### Coding Exercise 5: Nested `for' Loops\n",
        "\n",
        "Try writing nested `for` loops that combine dishes from different categories on a menu into all possible combination meals. For the printed output of each iteration, use the format:\n",
        "\n",
        "`protein` + ', ' + `veggie` + ', and ' + `carb`"
      ],
      "metadata": {
        "id": "Z0s7L7XC9UDO"
      }
    },
    {
      "cell_type": "code",
      "source": [
        "carbs = ['white rice', 'lo mein', 'flat noodles', 'scallion pancake']\n",
        "\n",
        "veggies = [\n",
        "    'garlic eggplant', 'sauteed baby bok choy',\n",
        "    'steamed broccoli', 'sauteed green beans'\n",
        "    ]\n",
        "\n",
        "proteins = ['mapo tofu', 'sesame chicken', 'beef with black bean sauce', ]\n",
        "\n",
        "################################################################################\n",
        "################################################################################\n",
        "\n",
        "for protein in proteins:\n",
        "  for veggie in veggies:\n",
        "    for carb in carbs:\n",
        "      print(protein + ', ' + veggie + ', and ' + carb)\n",
        "\n",
        "################################################################################\n",
        "################################################################################"
      ],
      "metadata": {
        "colab": {
          "base_uri": "https://localhost:8080/"
        },
        "outputId": "a386bb6f-4475-4f01-b374-847a9ef1334b",
        "id": "IPJc_TWi9M0P"
      },
      "execution_count": null,
      "outputs": [
        {
          "output_type": "stream",
          "name": "stdout",
          "text": [
            "mapo tofu, garlic eggplant, and white rice\n",
            "mapo tofu, garlic eggplant, and lo mein\n",
            "mapo tofu, garlic eggplant, and flat noodles\n",
            "mapo tofu, garlic eggplant, and scallion pancake\n",
            "mapo tofu, sauteed baby bok choy, and white rice\n",
            "mapo tofu, sauteed baby bok choy, and lo mein\n",
            "mapo tofu, sauteed baby bok choy, and flat noodles\n",
            "mapo tofu, sauteed baby bok choy, and scallion pancake\n",
            "mapo tofu, steamed broccoli, and white rice\n",
            "mapo tofu, steamed broccoli, and lo mein\n",
            "mapo tofu, steamed broccoli, and flat noodles\n",
            "mapo tofu, steamed broccoli, and scallion pancake\n",
            "mapo tofu, sauteed green beans, and white rice\n",
            "mapo tofu, sauteed green beans, and lo mein\n",
            "mapo tofu, sauteed green beans, and flat noodles\n",
            "mapo tofu, sauteed green beans, and scallion pancake\n",
            "sesame chicken, garlic eggplant, and white rice\n",
            "sesame chicken, garlic eggplant, and lo mein\n",
            "sesame chicken, garlic eggplant, and flat noodles\n",
            "sesame chicken, garlic eggplant, and scallion pancake\n",
            "sesame chicken, sauteed baby bok choy, and white rice\n",
            "sesame chicken, sauteed baby bok choy, and lo mein\n",
            "sesame chicken, sauteed baby bok choy, and flat noodles\n",
            "sesame chicken, sauteed baby bok choy, and scallion pancake\n",
            "sesame chicken, steamed broccoli, and white rice\n",
            "sesame chicken, steamed broccoli, and lo mein\n",
            "sesame chicken, steamed broccoli, and flat noodles\n",
            "sesame chicken, steamed broccoli, and scallion pancake\n",
            "sesame chicken, sauteed green beans, and white rice\n",
            "sesame chicken, sauteed green beans, and lo mein\n",
            "sesame chicken, sauteed green beans, and flat noodles\n",
            "sesame chicken, sauteed green beans, and scallion pancake\n",
            "beef with black bean sauce, garlic eggplant, and white rice\n",
            "beef with black bean sauce, garlic eggplant, and lo mein\n",
            "beef with black bean sauce, garlic eggplant, and flat noodles\n",
            "beef with black bean sauce, garlic eggplant, and scallion pancake\n",
            "beef with black bean sauce, sauteed baby bok choy, and white rice\n",
            "beef with black bean sauce, sauteed baby bok choy, and lo mein\n",
            "beef with black bean sauce, sauteed baby bok choy, and flat noodles\n",
            "beef with black bean sauce, sauteed baby bok choy, and scallion pancake\n",
            "beef with black bean sauce, steamed broccoli, and white rice\n",
            "beef with black bean sauce, steamed broccoli, and lo mein\n",
            "beef with black bean sauce, steamed broccoli, and flat noodles\n",
            "beef with black bean sauce, steamed broccoli, and scallion pancake\n",
            "beef with black bean sauce, sauteed green beans, and white rice\n",
            "beef with black bean sauce, sauteed green beans, and lo mein\n",
            "beef with black bean sauce, sauteed green beans, and flat noodles\n",
            "beef with black bean sauce, sauteed green beans, and scallion pancake\n"
          ]
        }
      ]
    },
    {
      "cell_type": "markdown",
      "source": [
        "## Computational Complexity:\n",
        "\n",
        "Without getting too deep into computer science, code that includes nested `for` loops can quickly become very computationally expensive (i.e.: it takes a long time to run).\n",
        "\n",
        "If you have a dataset with ten rows, and you want do a calculation that checks each row against each of the others, it won't take much time at all. You're doing 9 calculations per entry.\n",
        "\n",
        "But if your dataset has 1,000,000 rows, each row necessitates 999,999 calculations.\n",
        "\n",
        "If each of these calculations takes a millisecond, that's the difference between 90 milliseconds and over a minute and a half *per row*.\n",
        "\n",
        "There are ways of optimizing code by avoiding unnecessary repetitions. This is not required in order to write code that *works*, but learning about [computational complexity](https://en.wikipedia.org/wiki/Computational_complexity) will help you avoid wasting time when you're working on projects that involve lots of data."
      ],
      "metadata": {
        "id": "4fJDssRMAX8f"
      }
    },
    {
      "cell_type": "markdown",
      "source": [
        "## List Comprehensions\n",
        "\n",
        "`for` loops are useful, but sometimes they're a bit clunky. When one has to process a field of a dataframe, it is often better to use what's called a list comprehension. Depending on the particular operation involved, list comprehensions can sometimes run faster than `for` loops.\n",
        "\n",
        "\n",
        "List comprehensions are formatted:\n",
        "\n",
        "`[function(x) for x in container_object]`\n",
        "\n",
        "or\n",
        "\n",
        "`[x.method() for x in container_object]`\n",
        "\n",
        "The output of this code is (as the external square brackets may indicate) a list object."
      ],
      "metadata": {
        "id": "K3OUgL01P9nn"
      }
    },
    {
      "cell_type": "markdown",
      "source": [
        "## `while` Loops\n",
        "\n",
        "`for` loops are great for looping over container objects, but what if you don't know how many items have to be processed by a task before you start it?\n",
        "\n",
        "`while` loops are another loop construction in Python that allows the user to instruct Python to do a task until a condition is met (or in this case, not to do the task until the condition is met.)"
      ],
      "metadata": {
        "id": "Py45s6j9wEMw"
      }
    },
    {
      "cell_type": "code",
      "source": [
        "def squares(x):\n",
        "    n = 1\n",
        "    while n <= x:\n",
        "        print(n**2)\n",
        "        n += 1\n",
        "\n",
        "squares(9)"
      ],
      "metadata": {
        "colab": {
          "base_uri": "https://localhost:8080/"
        },
        "id": "ZlNT55nPwFD0",
        "outputId": "bcdc3bf9-ac23-497f-94f0-6941f8f791bf"
      },
      "execution_count": null,
      "outputs": [
        {
          "output_type": "stream",
          "name": "stdout",
          "text": [
            "1\n",
            "4\n",
            "9\n",
            "16\n",
            "25\n",
            "36\n",
            "49\n",
            "64\n",
            "81\n"
          ]
        }
      ]
    },
    {
      "cell_type": "markdown",
      "source": [
        "## Boolean Variables and Comparison Operators\n",
        "\n",
        "In very broad terms, [Boolean algebra](https://en.wikipedia.org/wiki/Boolean_algebra) (named after its creator George Boole) is a branch of mathematics and [mathematical logic](https://en.wikipedia.org/wiki/Mathematical_logic) that deals with true and false statements, and the comparison thereof.\n",
        "\n",
        "In Python, there are two Boolean variables, `True` and `False`. These are used in conjunction with comparison operators to change what code does based on particular conditions.\n",
        "\n",
        "The comparison operators in Python are \"equals\" (`==`), \"does not equal\" (`!=`), \"greater than\" (`>`), \"less than\" (`<`), \"greater than or equal to\" (`>=`) and \"less than or equal to\" (`<=`)\n",
        "\n",
        "Python also has a set of Boolean operators, `and`, `or`, and `not` that can combine or alter the behavior of these comparison operators.\n",
        "\n",
        "\\* *Note that the \"equals\" operator must be constructed with two equals signs, as in Python, assigning a variable uses a single equals sign.*"
      ],
      "metadata": {
        "id": "mVpi4gHGwFVO"
      }
    },
    {
      "cell_type": "code",
      "source": [
        "True == True"
      ],
      "metadata": {
        "colab": {
          "base_uri": "https://localhost:8080/"
        },
        "id": "a6RhxKNKwNLq",
        "outputId": "eda566a7-f06f-476f-a5cc-8a12f4dd231a"
      },
      "execution_count": null,
      "outputs": [
        {
          "output_type": "execute_result",
          "data": {
            "text/plain": [
              "True"
            ]
          },
          "metadata": {},
          "execution_count": 51
        }
      ]
    },
    {
      "cell_type": "code",
      "source": [
        "False == False"
      ],
      "metadata": {
        "colab": {
          "base_uri": "https://localhost:8080/"
        },
        "id": "13GTi288wNdb",
        "outputId": "0cdc0962-7b3a-4f95-c4f4-fa229464565c"
      },
      "execution_count": null,
      "outputs": [
        {
          "output_type": "execute_result",
          "data": {
            "text/plain": [
              "True"
            ]
          },
          "metadata": {},
          "execution_count": 52
        }
      ]
    },
    {
      "cell_type": "code",
      "source": [
        "True == False"
      ],
      "metadata": {
        "colab": {
          "base_uri": "https://localhost:8080/"
        },
        "id": "JZlDBs92wNv8",
        "outputId": "6508841f-9e47-4c52-8102-2c9356e787e9"
      },
      "execution_count": null,
      "outputs": [
        {
          "output_type": "execute_result",
          "data": {
            "text/plain": [
              "False"
            ]
          },
          "metadata": {},
          "execution_count": 53
        }
      ]
    },
    {
      "cell_type": "markdown",
      "source": [
        "## Booleans and Other Values\n",
        "\n",
        "Objects in Python that are *not* Boolean variables may still be evaluated as if they are. `1` and `0` are equivalent to `True` and `False`, respectively.\n",
        "\n",
        "`3` does not *equal* `True` like `1` does, but if you use the `bool()` builtin function, any nonzero number passed as an argument will evaluate to `True`.\n",
        "\n",
        "Any number except `0` will evaluate to True. Most container objects will also evaluate to `True` if passed to `bool()`, provided they are not empty."
      ],
      "metadata": {
        "id": "_xXVxGv5wOC2"
      }
    },
    {
      "cell_type": "code",
      "source": [
        "1 == True"
      ],
      "metadata": {
        "id": "YXi8J8huwFmB",
        "outputId": "b1629f78-b9bd-4fff-a976-608b6128fa94",
        "colab": {
          "base_uri": "https://localhost:8080/"
        }
      },
      "execution_count": null,
      "outputs": [
        {
          "output_type": "execute_result",
          "data": {
            "text/plain": [
              "True"
            ]
          },
          "metadata": {},
          "execution_count": 54
        }
      ]
    },
    {
      "cell_type": "code",
      "source": [
        "0 == False"
      ],
      "metadata": {
        "id": "R0ZINA1Rwbm6",
        "outputId": "19d77ca5-71a7-47fb-f740-ca89f776cb1e",
        "colab": {
          "base_uri": "https://localhost:8080/"
        }
      },
      "execution_count": null,
      "outputs": [
        {
          "output_type": "execute_result",
          "data": {
            "text/plain": [
              "True"
            ]
          },
          "metadata": {},
          "execution_count": 55
        }
      ]
    },
    {
      "cell_type": "code",
      "source": [
        "True + True"
      ],
      "metadata": {
        "id": "7qE5Gmw2wb5v",
        "outputId": "cdaa088d-8e23-4990-b285-3636e51220d1",
        "colab": {
          "base_uri": "https://localhost:8080/"
        }
      },
      "execution_count": null,
      "outputs": [
        {
          "output_type": "execute_result",
          "data": {
            "text/plain": [
              "2"
            ]
          },
          "metadata": {},
          "execution_count": 56
        }
      ]
    },
    {
      "cell_type": "markdown",
      "source": [
        "### Coding Exercise 6: Boolean Operations\n",
        "\n",
        "Try replacing True with False:"
      ],
      "metadata": {
        "id": "g_p085fuwcMw"
      }
    },
    {
      "cell_type": "code",
      "source": [
        "################################################################################\n",
        "################################################################################\n",
        "\n",
        "1 / True\n",
        "\n",
        "################################################################################\n",
        "################################################################################"
      ],
      "metadata": {
        "id": "f1NdOg2Xwcg0",
        "outputId": "7dc4d5f7-adb1-4803-dbf2-125fbf7570e9",
        "colab": {
          "base_uri": "https://localhost:8080/"
        }
      },
      "execution_count": null,
      "outputs": [
        {
          "output_type": "execute_result",
          "data": {
            "text/plain": [
              "1.0"
            ]
          },
          "metadata": {},
          "execution_count": 57
        }
      ]
    },
    {
      "cell_type": "code",
      "source": [
        "True > False"
      ],
      "metadata": {
        "colab": {
          "base_uri": "https://localhost:8080/"
        },
        "id": "dJnLv_6bwc1U",
        "outputId": "6ba5d7c1-c863-409c-dc9b-4bf71fcf8b6f"
      },
      "execution_count": null,
      "outputs": [
        {
          "output_type": "execute_result",
          "data": {
            "text/plain": [
              "True"
            ]
          },
          "metadata": {},
          "execution_count": 58
        }
      ]
    },
    {
      "cell_type": "code",
      "source": [
        "3 == True"
      ],
      "metadata": {
        "colab": {
          "base_uri": "https://localhost:8080/"
        },
        "id": "4zPJJlDTweE7",
        "outputId": "47d08190-7f02-4cee-b6b4-1cd951da47c6"
      },
      "execution_count": null,
      "outputs": [
        {
          "output_type": "execute_result",
          "data": {
            "text/plain": [
              "False"
            ]
          },
          "metadata": {},
          "execution_count": 59
        }
      ]
    },
    {
      "cell_type": "code",
      "source": [
        "bool(3)"
      ],
      "metadata": {
        "colab": {
          "base_uri": "https://localhost:8080/"
        },
        "id": "FC0vNJqEweZ1",
        "outputId": "d28958d1-e2c6-41c0-8d60-366dcfd546a0"
      },
      "execution_count": null,
      "outputs": [
        {
          "output_type": "execute_result",
          "data": {
            "text/plain": [
              "True"
            ]
          },
          "metadata": {},
          "execution_count": 60
        }
      ]
    },
    {
      "cell_type": "code",
      "source": [
        "bool(0)"
      ],
      "metadata": {
        "colab": {
          "base_uri": "https://localhost:8080/"
        },
        "id": "sCgvIIXUwevv",
        "outputId": "4363947b-3627-450a-902d-578fa6dd6aa1"
      },
      "execution_count": null,
      "outputs": [
        {
          "output_type": "execute_result",
          "data": {
            "text/plain": [
              "False"
            ]
          },
          "metadata": {},
          "execution_count": 61
        }
      ]
    },
    {
      "cell_type": "code",
      "source": [
        "bool([])"
      ],
      "metadata": {
        "colab": {
          "base_uri": "https://localhost:8080/"
        },
        "id": "n7VjGMm9wfFp",
        "outputId": "2bf463bc-c606-407d-ed9f-fe89e701ba2c"
      },
      "execution_count": null,
      "outputs": [
        {
          "output_type": "execute_result",
          "data": {
            "text/plain": [
              "False"
            ]
          },
          "metadata": {},
          "execution_count": 62
        }
      ]
    },
    {
      "cell_type": "code",
      "source": [
        "bool([0])"
      ],
      "metadata": {
        "colab": {
          "base_uri": "https://localhost:8080/"
        },
        "id": "NtLg0g5awfbH",
        "outputId": "bcab6ea7-b26e-44c7-df4c-bf98f3c091d4"
      },
      "execution_count": null,
      "outputs": [
        {
          "output_type": "execute_result",
          "data": {
            "text/plain": [
              "True"
            ]
          },
          "metadata": {},
          "execution_count": 63
        }
      ]
    },
    {
      "cell_type": "markdown",
      "source": [
        "## \"Control Flow\" Statements\n",
        "\n",
        "There are several Python keywords that have the ability to change the way code works based on conditions. You may hear these statements (which include `if`-`elif`-`else` as well as `for`, `while`, and `try`-`except`) referred to more generally as [\"control flow\"](https://docs.python.org/3/tutorial/controlflow.html) statements."
      ],
      "metadata": {
        "id": "nmVmyw95xP5T"
      }
    },
    {
      "cell_type": "markdown",
      "source": [
        "## If-Elif-Else Statements\n",
        "\n",
        "You may have learned about \"if-then\" statements in a class on symbolic logic, or you may have encountered them in Excel formulas.\n",
        "\n",
        "Python's syntax for such statements allows for multiple courses of action based on different conditions. No 'then' is required, just a colon and an indent.\n",
        "\n",
        "Python `if` statements almost always use comparison operators, although sometimes the comparison is implicit.\n",
        "\n",
        "For the first condition, Python expects an `if`, then to specify additional possible conditions, optional \"`elif`\" statements. Finally, if none of the conditions are met, an \"`else`\" (also optional).\n",
        "\n",
        "If you don't want your code to do anything if the condition in the `if` statement isn't met, you don't have to write an `elif` or `else` statement, but it can help make things clearer to whomever reads your code.\n",
        "\n",
        "Here's an example"
      ],
      "metadata": {
        "id": "uejUwFY6xUnJ"
      }
    },
    {
      "cell_type": "code",
      "source": [
        "cabbage = 'pink'\n",
        "\n",
        "if cabbage == 'purple':\n",
        "    print(\"pH 7 (neutral solution)\")\n",
        "elif cabbage == 'blue':\n",
        "    print(\"high pH (basic solution)\")\n",
        "elif cabbage == 'pink':\n",
        "    print(\"low pH (acidic solution)\")\n",
        "else:\n",
        "    print(\"That's not the right kind of cabbage!\")"
      ],
      "metadata": {
        "colab": {
          "base_uri": "https://localhost:8080/"
        },
        "id": "kQvpHFn3xU_k",
        "outputId": "e99bbddd-444e-4746-eb72-bce438717a44"
      },
      "execution_count": null,
      "outputs": [
        {
          "output_type": "stream",
          "name": "stdout",
          "text": [
            "low pH (acidic solution)\n"
          ]
        }
      ]
    },
    {
      "cell_type": "markdown",
      "source": [
        "Another example: say there is a task you want to automate. You want part of it to happen every day, and another part of it to happen every Tuesday, and another part to happen every Wednesday. Rather than writing three scripts and scheduling them separately, you could use an if-elif-else block to check the day of the week, so one script can do all three tasks.\n",
        "\n",
        "Python's `datetime` module is a tool to help handle time data. It contains functions that can convert between time formats, handle intervals between timestamps, and, as shown here, get the current time:"
      ],
      "metadata": {
        "id": "QX6EZluNxVYs"
      }
    },
    {
      "cell_type": "code",
      "source": [
        "from datetime import datetime\n",
        "\n",
        "print(datetime.today())\n",
        "\n",
        "# \"weekday()\" returns the day of the week as an integer; 0 is Monday, 6 is Sunday\n",
        "\n",
        "print(datetime.today().weekday())"
      ],
      "metadata": {
        "id": "fesXmaOExVzV",
        "outputId": "0391cbfe-6581-4c8c-a539-724ce4d63902",
        "colab": {
          "base_uri": "https://localhost:8080/"
        }
      },
      "execution_count": null,
      "outputs": [
        {
          "output_type": "stream",
          "name": "stdout",
          "text": [
            "2024-09-25 18:51:51.954000\n",
            "2\n"
          ]
        }
      ]
    },
    {
      "cell_type": "code",
      "source": [
        "if datetime.today().weekday() == 1:\n",
        "\t  print('Tuesday Task Completed')\n",
        "elif datetime.today().weekday() == 2:\n",
        "\t  print('Wednesday Task Completed')\n",
        "else:\n",
        "\t  pass\n",
        "\n",
        "print('Daily Task Completed')"
      ],
      "metadata": {
        "id": "LmNjFbqYhI7z"
      },
      "execution_count": null,
      "outputs": []
    },
    {
      "cell_type": "markdown",
      "source": [
        "## Try-Except Blocks\n",
        "\n",
        "When Python encounters an error, it stops executing. While error messages are helpful in evaluating what went wrong, we'd often prefer to have a backup option, or for our code to keep moving forward.\n",
        "\n",
        "As with if-elif-else statements, if you anticipate specific conditions, you can have better control over your code's operations. If you expect a specific error message to appear some of the time when you run a portion of your code, you can build in a try-except block so the code will acknowledge an error but not stop executing because of it.\n",
        "\n",
        "Say you expect a certain data type as an input, but you don't want your code to break entirely if a user enters the wrong kind of input. You can use a try-except block to look for a `TypeError`. Your code won't break, and it can execute a back-up plan instead."
      ],
      "metadata": {
        "id": "Ql29vJYDxWN9"
      }
    },
    {
      "cell_type": "code",
      "source": [
        "def number_plus_one(n):\n",
        "    try:\n",
        "        return n + 1\n",
        "    except TypeError:\n",
        "        print(\"{} is not a number! You can't add one to it!\".format(str(n)))"
      ],
      "metadata": {
        "id": "DPVYeXhTxWn4"
      },
      "execution_count": null,
      "outputs": []
    },
    {
      "cell_type": "code",
      "source": [
        "number_plus_one(2)"
      ],
      "metadata": {
        "colab": {
          "base_uri": "https://localhost:8080/"
        },
        "id": "r00q_rQMxXCb",
        "outputId": "1b80ff90-dac2-47d8-f37d-7b7ae91678a0"
      },
      "execution_count": null,
      "outputs": [
        {
          "output_type": "execute_result",
          "data": {
            "text/plain": [
              "3"
            ]
          },
          "metadata": {},
          "execution_count": 67
        }
      ]
    },
    {
      "cell_type": "code",
      "source": [
        "number_plus_one(str([]))"
      ],
      "metadata": {
        "colab": {
          "base_uri": "https://localhost:8080/"
        },
        "id": "zQIM1piuxtVZ",
        "outputId": "6b73a4aa-6266-4171-f2cf-becd60b20a22"
      },
      "execution_count": null,
      "outputs": [
        {
          "output_type": "stream",
          "name": "stdout",
          "text": [
            "[] is not a number! You can't add one to it!\n"
          ]
        }
      ]
    },
    {
      "cell_type": "code",
      "source": [
        "number_plus_one(str('Horse'))"
      ],
      "metadata": {
        "colab": {
          "base_uri": "https://localhost:8080/"
        },
        "id": "k7g7Wh-txuHF",
        "outputId": "001ca19b-962e-4f42-9b94-e57c443023aa"
      },
      "execution_count": null,
      "outputs": [
        {
          "output_type": "stream",
          "name": "stdout",
          "text": [
            "Horse is not a number! You can't add one to it!\n"
          ]
        }
      ]
    },
    {
      "cell_type": "markdown",
      "source": [
        "## Functions (Again?!)\n",
        "\n",
        "Now that we've touched upon a few more concepts, let's revisit functions.\n",
        "\n",
        "The value returned from a function can be stored in a variable, but it can also be passed on directly as an argument to another function.\n",
        "\n",
        "In this way, functions can work together in a sort of assembly line:"
      ],
      "metadata": {
        "id": "T1nKlyJ3xug-"
      }
    },
    {
      "cell_type": "code",
      "source": [
        "def separate_words(sample_string, delimiter=' '):\n",
        "\twords = sample_string.split(delimiter)\n",
        "\treturn words\n",
        "\n",
        "def add_elipses(sample_string):\n",
        "  return(sample_string+'...')\n",
        "\n",
        "def join_words(sample_list, delimiter=' '):\n",
        "\ttitle = delimiter.join(sample_list)\n",
        "\treturn title\n",
        "\n",
        "input_string = 'Please speak more slowly'\n",
        "join_words([add_elipses(word) for word in separate_words(input_string)])"
      ],
      "metadata": {
        "colab": {
          "base_uri": "https://localhost:8080/",
          "height": 35
        },
        "id": "9YDNu20Bxu6R",
        "outputId": "8ff1486b-023e-419f-bb55-d5d3334e2cfa"
      },
      "execution_count": null,
      "outputs": [
        {
          "output_type": "execute_result",
          "data": {
            "text/plain": [
              "'Please... speak... more... slowly...'"
            ],
            "application/vnd.google.colaboratory.intrinsic+json": {
              "type": "string"
            }
          },
          "metadata": {},
          "execution_count": 70
        }
      ]
    },
    {
      "cell_type": "markdown",
      "source": [
        "### Coding Exercise 7: Functions as an Assembly Line\n",
        "\n",
        "Try using each function (`separate_words()`, `add_elipses()`, `join_words()`) by itself, using the same input string.\n"
      ],
      "metadata": {
        "id": "piKQHWjLxvVA"
      }
    },
    {
      "cell_type": "code",
      "source": [
        "################################################################################\n",
        "################################################################################\n",
        "\n",
        "separate_words(input_string)\n",
        "\n",
        "################################################################################\n",
        "################################################################################"
      ],
      "metadata": {
        "id": "TDCkx3wxxvvx",
        "outputId": "84d9002e-d5fa-45bd-837f-3a909a9be3c8",
        "colab": {
          "base_uri": "https://localhost:8080/"
        }
      },
      "execution_count": null,
      "outputs": [
        {
          "output_type": "execute_result",
          "data": {
            "text/plain": [
              "['Please', 'speak', 'more', 'slowly']"
            ]
          },
          "metadata": {},
          "execution_count": 71
        }
      ]
    },
    {
      "cell_type": "markdown",
      "source": [
        "Did you expect that to happen?"
      ],
      "metadata": {
        "id": "9MixvC3QJzV-"
      }
    },
    {
      "cell_type": "markdown",
      "source": [
        "## Reserved Keywords and Named Objects\n",
        "\n",
        "As of Python 3.11, there are 35 reserved keywords, protected terms that cannot be used for anything other than their predefined function.\n",
        "\n",
        "Typing `help('keywords')` into a code cell or the console will show the list of reserved keywords.\n",
        "\n",
        "\n",
        "If you want to name a variable using one of these words, Python simply won't let you do so. Because of this layer of protection, *these aren't the words you should be most concerned about.*"
      ],
      "metadata": {
        "id": "b3Gwd_n5xwKs"
      }
    },
    {
      "cell_type": "code",
      "source": [
        "help('keywords')"
      ],
      "metadata": {
        "colab": {
          "base_uri": "https://localhost:8080/"
        },
        "id": "xJLB-la_xwmz",
        "outputId": "d85d53a0-9de4-4eee-a3c5-a3b2f5f32c55"
      },
      "execution_count": null,
      "outputs": [
        {
          "output_type": "stream",
          "name": "stdout",
          "text": [
            "\n",
            "Here is a list of the Python keywords.  Enter any keyword to get more help.\n",
            "\n",
            "False               class               from                or\n",
            "None                continue            global              pass\n",
            "True                def                 if                  raise\n",
            "and                 del                 import              return\n",
            "as                  elif                in                  try\n",
            "assert              else                is                  while\n",
            "async               except              lambda              with\n",
            "await               finally             nonlocal            yield\n",
            "break               for                 not                 \n",
            "\n"
          ]
        }
      ]
    },
    {
      "cell_type": "markdown",
      "source": [
        "It is important to be mindful of other objects in one's namespace when defining new variables, functions, or classes in Python, whether or not the terms in question are on the reserved keyword list.\n",
        "\n",
        "Not all of Python's builtin functions are protected, so if you forget that `range()` is a builtin function, you unfortunately *will* be able to create a variable called \"range\" and assign it a value of 5, and then the range function will no longer work."
      ],
      "metadata": {
        "id": "4rUBny--xxDl"
      }
    },
    {
      "cell_type": "markdown",
      "source": [
        "# End of Part I\n",
        "\n",
        "In the next notebook, we'll look at how to put these pieces together and scrape data from a table on a website.\n",
        "\n",
        "We'd like to keep improving our Library workshops! Please fill out [this survey](https://forms.gle/GswemEQeLo1RTrGw7), so we can incorporate your feedback."
      ],
      "metadata": {
        "id": "yMm-fG7fxxhT"
      }
    },
    {
      "cell_type": "markdown",
      "source": [
        "*© 2024. This work is openly licensed via [CC BY 4.0](https://creativecommons.org/licenses/by/4.0/)*"
      ],
      "metadata": {
        "id": "v7fyY-fyx0_Q"
      }
    }
  ]
}